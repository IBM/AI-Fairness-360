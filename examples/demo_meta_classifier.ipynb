{
 "cells": [
  {
   "cell_type": "code",
   "execution_count": 1,
   "metadata": {},
   "outputs": [],
   "source": [
    "import sys\n",
    "sys.path.append(\"../\")\n",
    "from aif360.datasets import BinaryLabelDataset\n",
    "from aif360.datasets import AdultDataset, GermanDataset, CompasDataset\n",
    "from aif360.metrics import BinaryLabelDatasetMetric\n",
    "from aif360.metrics import ClassificationMetric\n",
    "from aif360.metrics.utils import compute_boolean_conditioning_vector\n",
    "from sklearn.linear_model import LogisticRegression\n",
    "from sklearn.preprocessing import StandardScaler, MaxAbsScaler\n",
    "from sklearn.metrics import accuracy_score\n",
    "\n",
    "from aif360.algorithms.preprocessing.optim_preproc_helpers.data_preproc_functions import load_preproc_data_adult, load_preproc_data_compas, load_preproc_data_german\n",
    "\n",
    "from aif360.algorithms.inprocessing.meta_fair_classifier import MetaFairClassifer\n",
    "from aif360.algorithms.inprocessing.celisMeta.utils import getStats\n",
    "from IPython.display import Markdown, display\n",
    "import matplotlib.pyplot as plt\n"
   ]
  },
  {
   "cell_type": "code",
   "execution_count": 2,
   "metadata": {},
   "outputs": [],
   "source": [
    "dataset_orig = load_preproc_data_adult()\n",
    "\n",
    "privileged_groups = [{'sex': 1}]\n",
    "unprivileged_groups = [{'sex': 0}]\n",
    "\n",
    "dataset_orig_train, dataset_orig_test = dataset_orig.split([0.7], shuffle=True)\n"
   ]
  },
  {
   "cell_type": "code",
   "execution_count": 3,
   "metadata": {},
   "outputs": [
    {
     "data": {
      "text/markdown": [
       "#### Training Dataset shape"
      ],
      "text/plain": [
       "<IPython.core.display.Markdown object>"
      ]
     },
     "metadata": {},
     "output_type": "display_data"
    },
    {
     "name": "stdout",
     "output_type": "stream",
     "text": [
      "(34189, 18)\n"
     ]
    },
    {
     "data": {
      "text/markdown": [
       "#### Favorable and unfavorable labels"
      ],
      "text/plain": [
       "<IPython.core.display.Markdown object>"
      ]
     },
     "metadata": {},
     "output_type": "display_data"
    },
    {
     "name": "stdout",
     "output_type": "stream",
     "text": [
      "(1.0, 0.0)\n"
     ]
    },
    {
     "data": {
      "text/markdown": [
       "#### Protected attribute names"
      ],
      "text/plain": [
       "<IPython.core.display.Markdown object>"
      ]
     },
     "metadata": {},
     "output_type": "display_data"
    },
    {
     "name": "stdout",
     "output_type": "stream",
     "text": [
      "['sex', 'race']\n"
     ]
    },
    {
     "data": {
      "text/markdown": [
       "#### Privileged and unprivileged protected attribute values"
      ],
      "text/plain": [
       "<IPython.core.display.Markdown object>"
      ]
     },
     "metadata": {},
     "output_type": "display_data"
    },
    {
     "name": "stdout",
     "output_type": "stream",
     "text": [
      "([array([1.]), array([1.])], [array([0.]), array([0.])])\n"
     ]
    },
    {
     "data": {
      "text/markdown": [
       "#### Dataset feature names"
      ],
      "text/plain": [
       "<IPython.core.display.Markdown object>"
      ]
     },
     "metadata": {},
     "output_type": "display_data"
    },
    {
     "name": "stdout",
     "output_type": "stream",
     "text": [
      "['race', 'sex', 'Age (decade)=10', 'Age (decade)=20', 'Age (decade)=30', 'Age (decade)=40', 'Age (decade)=50', 'Age (decade)=60', 'Age (decade)=>=70', 'Education Years=6', 'Education Years=7', 'Education Years=8', 'Education Years=9', 'Education Years=10', 'Education Years=11', 'Education Years=12', 'Education Years=<6', 'Education Years=>12']\n"
     ]
    }
   ],
   "source": [
    "display(Markdown(\"#### Training Dataset shape\"))\n",
    "print(dataset_orig_train.features.shape)\n",
    "display(Markdown(\"#### Favorable and unfavorable labels\"))\n",
    "print(dataset_orig_train.favorable_label, dataset_orig_train.unfavorable_label)\n",
    "display(Markdown(\"#### Protected attribute names\"))\n",
    "print(dataset_orig_train.protected_attribute_names)\n",
    "display(Markdown(\"#### Privileged and unprivileged protected attribute values\"))\n",
    "print(dataset_orig_train.privileged_protected_attributes, \n",
    "      dataset_orig_train.unprivileged_protected_attributes)\n",
    "display(Markdown(\"#### Dataset feature names\"))\n",
    "print(dataset_orig_train.feature_names)\n"
   ]
  },
  {
   "cell_type": "code",
   "execution_count": 4,
   "metadata": {},
   "outputs": [
    {
     "data": {
      "text/markdown": [
       "#### Training Dataset shape"
      ],
      "text/plain": [
       "<IPython.core.display.Markdown object>"
      ]
     },
     "metadata": {},
     "output_type": "display_data"
    },
    {
     "name": "stdout",
     "output_type": "stream",
     "text": [
      "(34189, 18)\n"
     ]
    },
    {
     "data": {
      "text/markdown": [
       "#### Favorable and unfavorable labels"
      ],
      "text/plain": [
       "<IPython.core.display.Markdown object>"
      ]
     },
     "metadata": {},
     "output_type": "display_data"
    },
    {
     "name": "stdout",
     "output_type": "stream",
     "text": [
      "(1.0, 0.0)\n"
     ]
    },
    {
     "data": {
      "text/markdown": [
       "#### Protected attribute names"
      ],
      "text/plain": [
       "<IPython.core.display.Markdown object>"
      ]
     },
     "metadata": {},
     "output_type": "display_data"
    },
    {
     "name": "stdout",
     "output_type": "stream",
     "text": [
      "['sex', 'race']\n"
     ]
    },
    {
     "data": {
      "text/markdown": [
       "#### Privileged and unprivileged protected attribute values"
      ],
      "text/plain": [
       "<IPython.core.display.Markdown object>"
      ]
     },
     "metadata": {},
     "output_type": "display_data"
    },
    {
     "name": "stdout",
     "output_type": "stream",
     "text": [
      "([array([1.]), array([1.])], [array([0.]), array([0.])])\n"
     ]
    },
    {
     "data": {
      "text/markdown": [
       "#### Dataset feature names"
      ],
      "text/plain": [
       "<IPython.core.display.Markdown object>"
      ]
     },
     "metadata": {},
     "output_type": "display_data"
    },
    {
     "name": "stdout",
     "output_type": "stream",
     "text": [
      "['race', 'sex', 'Age (decade)=10', 'Age (decade)=20', 'Age (decade)=30', 'Age (decade)=40', 'Age (decade)=50', 'Age (decade)=60', 'Age (decade)=>=70', 'Education Years=6', 'Education Years=7', 'Education Years=8', 'Education Years=9', 'Education Years=10', 'Education Years=11', 'Education Years=12', 'Education Years=<6', 'Education Years=>12']\n"
     ]
    }
   ],
   "source": [
    "display(Markdown(\"#### Training Dataset shape\"))\n",
    "print(dataset_orig_train.features.shape)\n",
    "display(Markdown(\"#### Favorable and unfavorable labels\"))\n",
    "print(dataset_orig_train.favorable_label, dataset_orig_train.unfavorable_label)\n",
    "display(Markdown(\"#### Protected attribute names\"))\n",
    "print(dataset_orig_train.protected_attribute_names)\n",
    "display(Markdown(\"#### Privileged and unprivileged protected attribute values\"))\n",
    "print(dataset_orig_train.privileged_protected_attributes, \n",
    "      dataset_orig_train.unprivileged_protected_attributes)\n",
    "display(Markdown(\"#### Dataset feature names\"))\n",
    "print(dataset_orig_train.feature_names)\n"
   ]
  },
  {
   "cell_type": "code",
   "execution_count": 5,
   "metadata": {},
   "outputs": [
    {
     "name": "stdout",
     "output_type": "stream",
     "text": [
      "Train set: Difference in mean outcomes between unprivileged and privileged groups = -0.194402\n",
      "Test set: Difference in mean outcomes between unprivileged and privileged groups = -0.194759\n",
      "Train set: Difference in mean outcomes between unprivileged and privileged groups = -0.194402\n",
      "Test set: Difference in mean outcomes between unprivileged and privileged groups = -0.194759\n"
     ]
    }
   ],
   "source": [
    "metric_orig_train = BinaryLabelDatasetMetric(dataset_orig_train, \n",
    "                                             unprivileged_groups=unprivileged_groups,\n",
    "                                             privileged_groups=privileged_groups)\n",
    "#display(Markdown(\"#### Original training dataset\"))\n",
    "print(\"Train set: Difference in mean outcomes between unprivileged and privileged groups = %f\" % metric_orig_train.mean_difference())\n",
    "metric_orig_test = BinaryLabelDatasetMetric(dataset_orig_test, \n",
    "                                             unprivileged_groups=unprivileged_groups,\n",
    "                                             privileged_groups=privileged_groups)\n",
    "print(\"Test set: Difference in mean outcomes between unprivileged and privileged groups = %f\" % metric_orig_test.mean_difference())\n",
    "\n",
    "\n",
    "\n",
    "\n",
    "min_max_scaler = MaxAbsScaler()\n",
    "dataset_orig_train.features = min_max_scaler.fit_transform(dataset_orig_train.features)\n",
    "dataset_orig_test.features = min_max_scaler.transform(dataset_orig_test.features)\n",
    "metric_scaled_train = BinaryLabelDatasetMetric(dataset_orig_train, \n",
    "                             unprivileged_groups=unprivileged_groups,\n",
    "                             privileged_groups=privileged_groups)\n",
    "#display(Markdown(\"#### Scaled dataset - Verify that the scaling does not affect the group label statistics\"))\n",
    "print(\"Train set: Difference in mean outcomes between unprivileged and privileged groups = %f\" % metric_scaled_train.mean_difference())\n",
    "metric_scaled_test = BinaryLabelDatasetMetric(dataset_orig_test, \n",
    "                             unprivileged_groups=unprivileged_groups,\n",
    "                             privileged_groups=privileged_groups)\n",
    "print(\"Test set: Difference in mean outcomes between unprivileged and privileged groups = %f\" % metric_scaled_test.mean_difference())\n"
   ]
  },
  {
   "cell_type": "code",
   "execution_count": 6,
   "metadata": {},
   "outputs": [
    {
     "name": "stdout",
     "output_type": "stream",
     "text": [
      "('Training Accuracy: ', 0.7888209658077159, ', Training gamma: ', 0.8466343589061862)\n"
     ]
    },
    {
     "data": {
      "text/plain": [
       "<aif360.algorithms.inprocessing.meta_fair_classifier.MetaFairClassifer at 0x10cdc9e50>"
      ]
     },
     "execution_count": 6,
     "metadata": {},
     "output_type": "execute_result"
    }
   ],
   "source": [
    "# Learn debiased classifier\n",
    "tau = 0.8\n",
    "debiased_model = MetaFairClassifer(tau=tau, sensitive_attr=\"race\")\n",
    "debiased_model.fit(dataset_orig_train)\n"
   ]
  },
  {
   "cell_type": "code",
   "execution_count": 7,
   "metadata": {},
   "outputs": [],
   "source": [
    "# Apply the plain model to test data\n",
    "dataset_debiasing_train = debiased_model.predict(dataset_orig_train)\n",
    "dataset_debiasing_test = debiased_model.predict(dataset_orig_test)\n"
   ]
  },
  {
   "cell_type": "code",
   "execution_count": 8,
   "metadata": {},
   "outputs": [
    {
     "data": {
      "text/markdown": [
       "#### Model - with debiasing - dataset metrics"
      ],
      "text/plain": [
       "<IPython.core.display.Markdown object>"
      ]
     },
     "metadata": {},
     "output_type": "display_data"
    },
    {
     "name": "stdout",
     "output_type": "stream",
     "text": [
      "Train set: Difference in mean outcomes between unprivileged and privileged groups = -0.226253\n",
      "Test set: Difference in mean outcomes between unprivileged and privileged groups = -0.228184\n"
     ]
    }
   ],
   "source": [
    "# Metrics for the dataset from model with debiasing\n",
    "display(Markdown(\"#### Model - with debiasing - dataset metrics\"))\n",
    "metric_dataset_debiasing_train = BinaryLabelDatasetMetric(dataset_debiasing_train, \n",
    "                                             unprivileged_groups=unprivileged_groups,\n",
    "                                             privileged_groups=privileged_groups)\n",
    "\n",
    "print(\"Train set: Difference in mean outcomes between unprivileged and privileged groups = %f\" % metric_dataset_debiasing_train.mean_difference())\n",
    "\n",
    "metric_dataset_debiasing_test = BinaryLabelDatasetMetric(dataset_debiasing_test, \n",
    "                                             unprivileged_groups=unprivileged_groups,\n",
    "                                             privileged_groups=privileged_groups)\n",
    "\n",
    "print(\"Test set: Difference in mean outcomes between unprivileged and privileged groups = %f\" % metric_dataset_debiasing_test.mean_difference())\n"
   ]
  },
  {
   "cell_type": "code",
   "execution_count": 9,
   "metadata": {},
   "outputs": [
    {
     "data": {
      "text/markdown": [
       "#### Model - with debiasing - classification metrics"
      ],
      "text/plain": [
       "<IPython.core.display.Markdown object>"
      ]
     },
     "metadata": {},
     "output_type": "display_data"
    },
    {
     "name": "stdout",
     "output_type": "stream",
     "text": [
      "Test set: Classification accuracy = 0.789463\n",
      "Test set: Balanced classification accuracy = 0.707496\n",
      "Test set: Disparate impact = 0.267508\n",
      "Test set: Equal opportunity difference = -0.342941\n",
      "Test set: Average odds difference = -0.232800\n",
      "Test set: Theil_index = 0.147200\n"
     ]
    }
   ],
   "source": [
    "display(Markdown(\"#### Model - with debiasing - classification metrics\"))\n",
    "classified_metric_debiasing_test = ClassificationMetric(dataset_orig_test, \n",
    "                                                 dataset_debiasing_test,\n",
    "                                                 unprivileged_groups=unprivileged_groups,\n",
    "                                                 privileged_groups=privileged_groups)\n",
    "print(\"Test set: Classification accuracy = %f\" % classified_metric_debiasing_test.accuracy())\n",
    "TPR = classified_metric_debiasing_test.true_positive_rate()\n",
    "TNR = classified_metric_debiasing_test.true_negative_rate()\n",
    "bal_acc_debiasing_test = 0.5*(TPR+TNR)\n",
    "print(\"Test set: Balanced classification accuracy = %f\" % bal_acc_debiasing_test)\n",
    "print(\"Test set: Disparate impact = %f\" % classified_metric_debiasing_test.disparate_impact())\n",
    "print(\"Test set: Equal opportunity difference = %f\" % classified_metric_debiasing_test.equal_opportunity_difference())\n",
    "print(\"Test set: Average odds difference = %f\" % classified_metric_debiasing_test.average_odds_difference())\n",
    "print(\"Test set: Theil_index = %f\" % classified_metric_debiasing_test.theil_index())\n"
   ]
  },
  {
   "cell_type": "code",
   "execution_count": 10,
   "metadata": {},
   "outputs": [
    {
     "name": "stdout",
     "output_type": "stream",
     "text": [
      "('Accuracy : ', 3085, 14653, 0.7894629086193954)\n",
      "('SR tau : ', 0.6335828819141526)\n",
      "('FPR tau : ', 0.6651902296035078)\n",
      "('FNR tau : ', 0.9344431946006749)\n",
      "('TPR tau : ', 0.9435242131376297)\n",
      "('TNR tau : ', 0.9466027927717635)\n",
      "('AR tau : ', 0.9175061708874659)\n",
      "('FDR tau : ', 0.830043185477968)\n",
      "('FOR tau : ', 0.5406237682301932)\n",
      "('PPR tau : ', 0.8433187186542124)\n",
      "('NPR tau : ', 0.924708780005249)\n"
     ]
    }
   ],
   "source": [
    "### Testing \n",
    "import numpy as np\n",
    "import pandas as pd\n",
    "\n",
    "predictions = list(dataset_debiasing_test.labels)\n",
    "predictions = [1 if y == dataset_orig_train.favorable_label else -1 for y in predictions]\n",
    "y_test = np.array([1 if y == [dataset_orig_train.favorable_label] else -1 for y in dataset_orig_test.labels])\n",
    "x_control_test = pd.DataFrame(data=dataset_orig_test.features, columns=dataset_orig_test.feature_names)[\"race\"]\n",
    "\n",
    "acc, sr, fdr = getStats(y_test, predictions, x_control_test)\n",
    "\n",
    "# We give a 0.1 buffer since if the constraint might not be exactly satisfied if the \n",
    "# normal distribution is not a good fit for the training data.\n",
    "assert fdr >= tau - 0.1"
   ]
  },
  {
   "cell_type": "code",
   "execution_count": 13,
   "metadata": {},
   "outputs": [
    {
     "data": {
      "text/markdown": [
       "#### Running the algorithm for different tau values"
      ],
      "text/plain": [
       "<IPython.core.display.Markdown object>"
      ]
     },
     "metadata": {},
     "output_type": "display_data"
    },
    {
     "name": "stdout",
     "output_type": "stream",
     "text": [
      "Tau: 0.10\n",
      "('Training Accuracy: ', 0.7076837579338384, ', Training gamma: ', 0.8515484318287467)\n",
      "('Accuracy : ', 4268, 14653, 0.7087285880024569)\n",
      "('SR tau : ', 0.7542862733882257)\n",
      "('FPR tau : ', 0.8029785756264359)\n",
      "('FNR tau : ', 0.907716535433071)\n",
      "('TPR tau : ', 0.973575036075036)\n",
      "('TNR tau : ', 0.9123443457370778)\n",
      "('AR tau : ', 0.9475531524465962)\n",
      "('FDR tau : ', 0.8186068256194482)\n",
      "('FOR tau : ', 0.520823267948594)\n",
      "('PPR tau : ', 0.7309292649098476)\n",
      "('NPR tau : ', 0.9523649427495581)\n",
      "Tau: 0.20\n",
      "('Training Accuracy: ', 0.7143818187136213, ', Training gamma: ', 0.8740107239918714)\n",
      "('Accuracy : ', 4167, 14653, 0.7156213744625675)\n",
      "('SR tau : ', 0.6804186910415122)\n",
      "('FPR tau : ', 0.7090519728192776)\n",
      "('FNR tau : ', 0.7691338582677166)\n",
      "('TPR tau : ', 0.9203232001159463)\n",
      "('TNR tau : ', 0.8789558573886078)\n",
      "('AR tau : ', 0.9233239855403916)\n",
      "('FDR tau : ', 0.8362599159812782)\n",
      "('FOR tau : ', 0.5883645137475918)\n",
      "('PPR tau : ', 0.7659602999295992)\n",
      "('NPR tau : ', 0.9585260144445069)\n",
      "Tau: 0.30\n",
      "('Training Accuracy: ', 0.7259352423294042, ', Training gamma: ', 0.8537125021298012)\n",
      "('Accuracy : ', 3988, 14653, 0.7278373029413772)\n",
      "('SR tau : ', 0.7330044689928891)\n",
      "('FPR tau : ', 0.7827902432716137)\n",
      "('FNR tau : ', 0.9027438628994905)\n",
      "('TPR tau : ', 0.9642543907434846)\n",
      "('TNR tau : ', 0.9189050747980114)\n",
      "('AR tau : ', 0.9406544636475846)\n",
      "('FDR tau : ', 0.816026633595986)\n",
      "('FOR tau : ', 0.5304400418327446)\n",
      "('PPR tau : ', 0.7449500063116703)\n",
      "('NPR tau : ', 0.9470110473041506)\n",
      "Tau: 0.40\n",
      "('Training Accuracy: ', 0.7291526514375969, ', Training gamma: ', 0.87324761369921)\n",
      "('Accuracy : ', 3933, 14653, 0.7315908005186651)\n",
      "('SR tau : ', 0.6360982831029656)\n",
      "('FPR tau : ', 0.6557415047511852)\n",
      "('FNR tau : ', 0.7532376100046317)\n",
      "('TPR tau : ', 0.8911200004359886)\n",
      "('TNR tau : ', 0.877572625280048)\n",
      "('AR tau : ', 0.9127393716667752)\n",
      "('FDR tau : ', 0.8453463181953691)\n",
      "('FOR tau : ', 0.6022250809986659)\n",
      "('PPR tau : ', 0.7933303940889317)\n",
      "('NPR tau : ', 0.9547231923986377)\n",
      "Tau: 0.50\n",
      "('Training Accuracy: ', 0.7821521542016439, ', Training gamma: ', 0.8574042843302594)\n",
      "('Accuracy : ', 3195, 14653, 0.7819559134648195)\n",
      "('SR tau : ', 0.6765500013554587)\n",
      "('FPR tau : ', 0.7134680978509129)\n",
      "('FNR tau : ', 0.9827643852210782)\n",
      "('TPR tau : ', 0.9875686745977381)\n",
      "('TNR tau : ', 0.9467006553062615)\n",
      "('AR tau : ', 0.920348482059736)\n",
      "('FDR tau : ', 0.8263584179737061)\n",
      "('FOR tau : ', 0.5143594749972882)\n",
      "('PPR tau : ', 0.8266268964138297)\n",
      "('NPR tau : ', 0.9242336242738334)\n",
      "Tau: 0.60\n",
      "('Training Accuracy: ', 0.7825323934598848, ', Training gamma: ', 0.8554832304502037)\n",
      "('Accuracy : ', 3187, 14653, 0.7825018767487887)\n",
      "('SR tau : ', 0.6801604075293094)\n",
      "('FPR tau : ', 0.7195701276351641)\n",
      "('FNR tau : ', 0.986495457298607)\n",
      "('TPR tau : ', 0.9902334578535334)\n",
      "('TNR tau : ', 0.9482780852625522)\n",
      "('AR tau : ', 0.9211106754196199)\n",
      "('FDR tau : ', 0.8237232744296363)\n",
      "('FOR tau : ', 0.5134255457099633)\n",
      "('PPR tau : ', 0.8244576911932922)\n",
      "('NPR tau : ', 0.9239498336028926)\n",
      "Tau: 0.70\n",
      "('Training Accuracy: ', 0.7880019889438123, ', Training gamma: ', 0.8236660239606577)\n",
      "('Accuracy : ', 3107, 14653, 0.7879615095884802)\n",
      "('SR tau : ', 0.7388666842500354)\n",
      "('FPR tau : ', 0.8125903372997396)\n",
      "('FNR tau : ', 0.9463964707608775)\n",
      "('TPR tau : ', 0.9586339909758471)\n",
      "('TNR tau : ', 0.9693913785236763)\n",
      "('AR tau : ', 0.9287326090184583)\n",
      "('FDR tau : ', 0.7923873722053703)\n",
      "('FOR tau : ', 0.4934019370460049)\n",
      "('PPR tau : ', 0.7995087423891958)\n",
      "('NPR tau : ', 0.9176068678992656)\n",
      "Tau: 0.80\n",
      "('Training Accuracy: ', 0.7888209658077159, ', Training gamma: ', 0.8466343589061862)\n",
      "('Accuracy : ', 3085, 14653, 0.7894629086193954)\n",
      "('SR tau : ', 0.6335828819141526)\n",
      "('FPR tau : ', 0.6651902296035078)\n",
      "('FNR tau : ', 0.9344431946006749)\n",
      "('TPR tau : ', 0.9435242131376297)\n",
      "('TNR tau : ', 0.9466027927717635)\n",
      "('AR tau : ', 0.9175061708874659)\n",
      "('FDR tau : ', 0.830043185477968)\n",
      "('FOR tau : ', 0.5406237682301932)\n",
      "('PPR tau : ', 0.8433187186542124)\n",
      "('NPR tau : ', 0.924708780005249)\n",
      "Tau: 0.90\n",
      "('Training Accuracy: ', 0.7902249261458364, ', Training gamma: ', 0.8385275998938002)\n",
      "('Accuracy : ', 3073, 14653, 0.7902818535453491)\n",
      "('SR tau : ', 0.6393483420030692)\n",
      "('FPR tau : ', 0.6752232647408157)\n",
      "('FNR tau : ', 0.9397225346831646)\n",
      "('TPR tau : ', 0.9478350033746951)\n",
      "('TNR tau : ', 0.9489725581811307)\n",
      "('AR tau : ', 0.9186356409377993)\n",
      "('FDR tau : ', 0.8251506780512304)\n",
      "('FOR tau : ', 0.5391870263914295)\n",
      "('PPR tau : ', 0.8395321367866094)\n",
      "('NPR tau : ', 0.9242720479007847)\n"
     ]
    }
   ],
   "source": [
    "display(Markdown(\"#### Running the algorithm for different tau values\"))\n",
    "\n",
    "accuracies, false_discovery_rates, statistical_rates = [], [], []\n",
    "s_attr = \"race\"\n",
    "# Converting to form used by celisMeta.utils file\n",
    "y_test = np.array([1 if y == [dataset_orig_train.favorable_label] else -1 for y in dataset_orig_test.labels])\n",
    "x_control_test = pd.DataFrame(data=dataset_orig_test.features, columns=dataset_orig_test.feature_names)[s_attr]\n",
    "\n",
    "all_tau = np.linspace(0.1, 0.9, 9)\n",
    "for tau in all_tau:\n",
    "    print(\"Tau: %.2f\" % tau)\n",
    "    debiased_model = MetaFairClassifer(tau=tau, sensitive_attr=s_attr)\n",
    "    debiased_model.fit(dataset_orig_train)\n",
    "    \n",
    "    dataset_debiasing_test = debiased_model.predict(dataset_orig_test)\n",
    "    predictions = dataset_debiasing_test.labels\n",
    "    predictions = [1 if y == dataset_orig_train.favorable_label else -1 for y in predictions]\n",
    "    \n",
    "    acc, sr, fdr = getStats(y_test, predictions, x_control_test)\n",
    "    \n",
    "    ## Testing if constraint is satisfied\n",
    "    assert fdr >= tau - 0.1\n",
    "    \n",
    "    accuracies.append(acc)\n",
    "    false_discovery_rates.append(fdr)\n",
    "    statistical_rates.append(sr)\n",
    "    "
   ]
  },
  {
   "cell_type": "code",
   "execution_count": 14,
   "metadata": {},
   "outputs": [
    {
     "data": {
      "text/markdown": [
       "### Plot of accuracy and output fairness vs input constraint (tau)"
      ],
      "text/plain": [
       "<IPython.core.display.Markdown object>"
      ]
     },
     "metadata": {},
     "output_type": "display_data"
    },
    {
     "data": {
      "text/markdown": [
       "#### Output fairness is represented by $\\gamma_{fdr}$, which is the ratio of false discovery rate of different sensitive attribute values."
      ],
      "text/plain": [
       "<IPython.core.display.Markdown object>"
      ]
     },
     "metadata": {},
     "output_type": "display_data"
    },
    {
     "data": {
      "image/png": "[encoded data removed]",
      "text/plain": [
       "<Figure size 936x504 with 2 Axes>"
      ]
     },
     "metadata": {
      "needs_background": "light"
     },
     "output_type": "display_data"
    }
   ],
   "source": [
    "display(Markdown(\"### Plot of accuracy and output fairness vs input constraint (tau)\"))\n",
    "\n",
    "display(Markdown(\"#### Output fairness is represented by $\\gamma_{fdr}$, which is the ratio of false discovery rate of different sensitive attribute values.\"))\n",
    "\n",
    "fig, ax1 = plt.subplots(figsize=(13,7))\n",
    "ax1.plot(all_tau, accuracies, color='r')\n",
    "ax1.set_title('Accuracy and $\\gamma_{fdr}$ vs Tau', fontsize=16, fontweight='bold')\n",
    "ax1.set_xlabel('Input Tau', fontsize=16, fontweight='bold')\n",
    "ax1.set_ylabel('Accuracy', color='r', fontsize=16, fontweight='bold')\n",
    "ax1.xaxis.set_tick_params(labelsize=14)\n",
    "ax1.yaxis.set_tick_params(labelsize=14)\n",
    "\n",
    "ax2 = ax1.twinx()\n",
    "ax2.plot(all_tau, false_discovery_rates, color='b')\n",
    "ax2.set_ylabel('$\\gamma_{fdr}$', color='b', fontsize=16, fontweight='bold')\n",
    "ax2.yaxis.set_tick_params(labelsize=14)\n",
    "ax2.grid(True)\n"
   ]
  },
  {
   "cell_type": "code",
   "execution_count": null,
   "metadata": {},
   "outputs": [],
   "source": [
    "# # \n",
    "#     References:\n",
    "#         Celis, L. E., Huang, L., Keswani, V., & Vishnoi, N. K. (2018). \n",
    "#         \"Classification with Fairness Constraints: A Meta-Algorithm with Provable Guarantees.\"\"\n"
   ]
  }
 ],
 "metadata": {
  "kernelspec": {
   "display_name": "Python 2",
   "language": "python",
   "name": "python2"
  },
  "language_info": {
   "codemirror_mode": {
    "name": "ipython",
    "version": 2
   },
   "file_extension": ".py",
   "mimetype": "text/x-python",
   "name": "python",
   "nbconvert_exporter": "python",
   "pygments_lexer": "ipython2",
   "version": "2.7.14"
  }
 },
 "nbformat": 4,
 "nbformat_minor": 2
}
