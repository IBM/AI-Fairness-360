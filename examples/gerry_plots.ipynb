{
 "cells": [
  {
   "cell_type": "code",
   "execution_count": null,
   "metadata": {
    "collapsed": true
   },
   "outputs": [],
   "source": [
    "import warnings\n",
    "warnings.filterwarnings(\"ignore\")\n",
    "from aif360.algorithms.inprocessing.gerryfair_classifier import Model\n",
    "from aif360.algorithms.preprocessing.optim_preproc_helpers.data_preproc_functions import load_preproc_data_adult\n",
    "from aif360.algorithms.inprocessing import gerryfair\n",
    "from sklearn import svm\n",
    "from sklearn import tree\n",
    "from sklearn.kernel_ridge import KernelRidge\n",
    "from sklearn import linear_model\n",
    "import pickle\n",
    "import matplotlib\n",
    "try:\n",
    "    matplotlib.use('TkAgg')\n",
    "except:\n",
    "    print(\"Matplotlib Error, comment out matplotlib.use('TkAgg')\")\n",
    "import matplotlib.pyplot as plt\n",
    "\n"
   ]
  },
  {
   "cell_type": "code",
   "execution_count": null,
   "metadata": {},
   "outputs": [],
   "source": [
    "def multiple_classifiers_pareto(dataset, gamma_list=[0.002, 0.005, 0.01, 0.02, 0.05, 0.1], save_results=True):\n",
    "\n",
    "\n",
    "    ln_predictor = linear_model.LinearRegression()\n",
    "    svm_predictor = svm.LinearSVR()\n",
    "    tree_predictor = tree.DecisionTreeRegressor(max_depth=3)\n",
    "    kernel_predictor = KernelRidge(alpha=1.0, gamma=1.0, kernel='rbf')\n",
    "    predictor_dict = {'Linear': {'predictor': ln_predictor, 'iters': 10},\n",
    "                      'SVR': {'predictor': svm_predictor, 'iters': 10},\n",
    "                      'DT': {'predictor': tree_predictor, 'iters': 10},\n",
    "                      'DT': {'predictor': kernel_predictor, 'iters': 10}}\n",
    "\n",
    "    results_dict = {}\n",
    "\n",
    "    for pred in predictor_dict:\n",
    "        print('Curr Predictor: {}'.format(pred))\n",
    "        predictor = predictor_dict[pred]['predictor']\n",
    "        max_iters = predictor_dict[pred]['iters']\n",
    "        fair_clf = Model(C=100, printflag=True, gamma=1, predictor=predictor, max_iters=max_iters)\n",
    "        fair_clf.set_options(max_iters=max_iters)\n",
    "        errors, fp_violations, fn_violations = fair_clf.pareto(dataset, gamma_list)\n",
    "        results_dict[pred] = {'errors': errors, 'fp_violations': fp_violations, 'fn_violations': fn_violations}\n",
    "        plt.plot(errors, fp_violations, label=pred)\n",
    "\n",
    "    if save_results:\n",
    "        pickle.dump(results_dict, open('results_dict_' + str(gamma_list) + '_gammas' + str(gamma_list) + '.pkl', 'wb'))\n",
    "\n",
    "    plt.xlabel('Error')\n",
    "    plt.ylabel('Unfairness')\n",
    "    plt.legend()\n",
    "    plt.title('Error vs. Unfairness\\n(Communities & Crime Dataset)')\n",
    "    plt.show()\n",
    "    \n",
    "data_set = load_preproc_data_adult()\n",
    "multiple_classifiers_pareto(data_set)"
   ]
  },
  {
   "cell_type": "code",
   "execution_count": 1,
   "metadata": {},
   "outputs": [
    {
     "ename": "NameError",
     "evalue": "name 'load_preproc_data_adult' is not defined",
     "traceback": [
      "\u001b[0;31m---------------------------------------------------------------------------\u001b[0m",
      "\u001b[0;31mNameError\u001b[0m                                 Traceback (most recent call last)",
      "\u001b[0;32m<ipython-input-1-1724c0e7d50a>\u001b[0m in \u001b[0;36m<module>\u001b[0;34m()\u001b[0m\n\u001b[1;32m     30\u001b[0m \u001b[0;34m\u001b[0m\u001b[0m\n\u001b[1;32m     31\u001b[0m \u001b[0;34m\u001b[0m\u001b[0m\n\u001b[0;32m---> 32\u001b[0;31m \u001b[0mdata_set\u001b[0m \u001b[0;34m=\u001b[0m \u001b[0mload_preproc_data_adult\u001b[0m\u001b[0;34m(\u001b[0m\u001b[0;34m)\u001b[0m\u001b[0;34m\u001b[0m\u001b[0m\n\u001b[0m\u001b[1;32m     33\u001b[0m \u001b[0mfp_vs_fn\u001b[0m\u001b[0;34m(\u001b[0m\u001b[0mdata_set\u001b[0m\u001b[0;34m)\u001b[0m\u001b[0;34m\u001b[0m\u001b[0m\n",
      "\u001b[0;31mNameError\u001b[0m: name 'load_preproc_data_adult' is not defined"
     ],
     "output_type": "error"
    }
   ],
   "source": [
    "def fp_vs_fn(dataset):\n",
    "    C = 10\n",
    "    printflag = True\n",
    "    gamma = .01\n",
    "    max_iters = 10\n",
    "    fair_model = gerryfair.model.Model(C=C, printflag=printflag, gamma=gamma, fairness_def='FP', max_iters=max_iters)\n",
    "    gamma_list = [0.001, 0.002, 0.003, 0.004, 0.005, 0.0075, 0.01, 0.02, 0.03, 0.05]\n",
    "    fp_auditor = gerryfair.model.Auditor(dataset, 'FP')\n",
    "    fn_auditor = gerryfair.model.Auditor(dataset, 'FP')\n",
    "    fp_violations = []\n",
    "    fn_violations = []\n",
    "    for g in gamma_list:\n",
    "        fair_model.set_options(gamma=g)\n",
    "        fair_model.fit(dataset)\n",
    "        predictions = (fair_model.predict(dataset)).labels\n",
    "        predictions_inv = [abs(1 - p) for p in predictions]\n",
    "        _, fp_diff = fp_auditor.audit(predictions)\n",
    "        _, fn_diff = fn_auditor.audit(predictions_inv)\n",
    "        fp_violations.append(fp_diff)\n",
    "        fn_violations.append(fn_diff)\n",
    "\n",
    "    print((fp_violations, fn_violations))\n",
    "\n",
    "    plt.plot(fp_violations, fn_violations, label='communities')\n",
    "    plt.xlabel('False Positive Disparity')\n",
    "    plt.ylabel('False Negative Disparity')\n",
    "    plt.legend()\n",
    "    plt.title('FP vs FN Unfairness')\n",
    "    plt.show()\n",
    "    \n",
    "    \n",
    "data_set = load_preproc_data_adult()\n",
    "fp_vs_fn(data_set)"
   ]
  },
  {
   "cell_type": "code",
   "execution_count": 2,
   "metadata": {},
   "outputs": [],
   "source": []
  },
  {
   "cell_type": "code",
   "execution_count": null,
   "metadata": {},
   "outputs": [],
   "source": []
  }
 ],
 "metadata": {
  "kernelspec": {
   "display_name": "Python 2",
   "language": "python",
   "name": "python2"
  },
  "language_info": {
   "codemirror_mode": {
    "name": "ipython",
    "version": 2
   },
   "file_extension": ".py",
   "mimetype": "text/x-python",
   "name": "python",
   "nbconvert_exporter": "python",
   "pygments_lexer": "ipython2",
   "version": "2.7.6"
  }
 },
 "nbformat": 4,
 "nbformat_minor": 0
}
