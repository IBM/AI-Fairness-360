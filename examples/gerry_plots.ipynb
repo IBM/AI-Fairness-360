{
 "cells": [
  {
   "cell_type": "code",
   "execution_count": null,
   "metadata": {
    "pycharm": {
     "is_executing": false
    }
   },
   "outputs": [],
   "source": [
    "%matplotlib inline\n",
    "import warnings\n",
    "warnings.filterwarnings(\"ignore\")\n",
    "import os\n",
    "import sys\n",
    "sys.path.append(\"../\")\n",
    "import random\n",
    "from aif360.algorithms.inprocessing.gerryfair_classifier import *\n",
    "from aif360.algorithms.inprocessing.gerryfair.clean import *\n",
    "from aif360.algorithms.preprocessing.optim_preproc_helpers.data_preproc_functions import *\n",
    "from aif360.algorithms.inprocessing.gerryfair.auditor import *\n",
    "from sklearn import svm\n",
    "from sklearn import tree\n",
    "from sklearn.kernel_ridge import KernelRidge\n",
    "from sklearn import linear_model\n",
    "import pickle\n",
    "import matplotlib.pyplot as plt\n",
    "import random\n",
    "import pdb\n",
    "from IPython.display import IFrame\n",
    "matplotlib.use('Agg')\n",
    "\n",
    "\n",
    "\n"
   ]
  },
  {
   "cell_type": "markdown",
   "metadata": {},
   "source": [
    "We first demonstrate how to instantiate a `Model`, `train` it with respect to rich subgroup fairness, and `predict` the label of a new example. We remark that when we set the `print_flag = True` at each iteration of the algorithm we print the error, fairness violation, and violated group size of most recent model. The error is the classification error of the classifier. At each round the Learner tries to find a classifier that minimizes the classification error plus a weighted sum of the fairness disparities on all the groups that the Auditor has found up until that point. By contrast the Auditor tries to find the group at each round with the greatest rich subgroup disparity with respect to the Learner's model. We define `violated group size` as the size (as a fraction of the dataset size) of this group, and the `fairness violation` as the `violated group size` times the difference in the statistical rate (FP or FN rate) on the group vs. the whole population. \n",
    "\n",
    "In the example below we set `max_iterations=5000` which is in-line with time to convergence observed in [the rich subgroup fairness empirical paper](https://arxiv.org/abs/1808.08166), but advise that this can be highly dataset dependent. Our target $\\gamma$-disparity is `gamma = .001`, our statistical rate is false positive rate or `FP`, and our weighted regression oracle is linear regression. We observe that the unconstrained (with no fairness constraint) classifier has error $.185$ and $\\gamma$-disparity $.022$. After $5000$ iterations we obtain a classifier that $\\gamma$-fair, and has error $.230$. We note that we converge to a fair, and almost as accurate classifier after just a hundred iterations.\n"
   ]
  },
  {
   "cell_type": "code",
   "execution_count": 2,
   "metadata": {},
   "outputs": [
    {
     "name": "stdout",
     "output_type": "stream",
     "text": [
      "iteration: 1, error: 0.18, fairness violation: 0.023000000000000003, violated group size: 0.215\n",
      "iteration: 2, error: 0.245, fairness violation: 0.015799999999999998, violated group size: 0.215\n",
      "iteration: 3, error: 0.2666666666666667, fairness violation: 0.0134, violated group size: 0.215\n",
      "iteration: 4, error: 0.2775, fairness violation: 0.0122, violated group size: 0.215\n",
      "iteration: 5, error: 0.284, fairness violation: 0.011480000000000002, violated group size: 0.215\n",
      "iteration: 6, error: 0.2883333333333333, fairness violation: 0.011000000000000006, violated group size: 0.285\n",
      "iteration: 7, error: 0.2914285714285714, fairness violation: 0.010657142857142858, violated group size: 0.285\n",
      "iteration: 8, error: 0.29375, fairness violation: 0.010399999999999998, violated group size: 0.215\n",
      "iteration: 9, error: 0.29555555555555557, fairness violation: 0.010200000000000002, violated group size: 0.215\n",
      "iteration: 10, error: 0.29700000000000004, fairness violation: 0.010040000000000002, violated group size: 0.285\n",
      "iteration: 11, error: 0.2981818181818182, fairness violation: 0.009909090909090907, violated group size: 0.215\n",
      "iteration: 12, error: 0.2991666666666667, fairness violation: 0.0098, violated group size: 0.215\n",
      "iteration: 13, error: 0.3, fairness violation: 0.009707692307692311, violated group size: 0.285\n",
      "iteration: 14, error: 0.3007142857142857, fairness violation: 0.009628571428571429, violated group size: 0.215\n",
      "iteration: 15, error: 0.30133333333333334, fairness violation: 0.00956, violated group size: 0.215\n",
      "iteration: 16, error: 0.301875, fairness violation: 0.0095, violated group size: 0.215\n",
      "iteration: 17, error: 0.3023529411764706, fairness violation: 0.009447058823529413, violated group size: 0.215\n",
      "iteration: 18, error: 0.3027777777777778, fairness violation: 0.009400000000000004, violated group size: 0.285\n",
      "iteration: 19, error: 0.30315789473684207, fairness violation: 0.009357894736842105, violated group size: 0.215\n",
      "iteration: 20, error: 0.3035, fairness violation: 0.009320000000000004, violated group size: 0.285\n",
      "iteration: 21, error: 0.3038095238095238, fairness violation: 0.009285714285714288, violated group size: 0.285\n",
      "iteration: 22, error: 0.3040909090909091, fairness violation: 0.009254545454545455, violated group size: 0.215\n",
      "iteration: 23, error: 0.30434782608695654, fairness violation: 0.00922608695652174, violated group size: 0.215\n",
      "iteration: 24, error: 0.3045833333333333, fairness violation: 0.0092, violated group size: 0.215\n",
      "iteration: 25, error: 0.3048, fairness violation: 0.009176, violated group size: 0.215\n",
      "iteration: 26, error: 0.305, fairness violation: 0.009153846153846155, violated group size: 0.285\n",
      "iteration: 27, error: 0.30518518518518517, fairness violation: 0.009133333333333335, violated group size: 0.285\n",
      "iteration: 28, error: 0.3053571428571428, fairness violation: 0.009114285714285715, violated group size: 0.285\n",
      "iteration: 29, error: 0.3055172413793104, fairness violation: 0.009096551724137932, violated group size: 0.215\n",
      "iteration: 30, error: 0.3056666666666667, fairness violation: 0.009080000000000001, violated group size: 0.285\n",
      "iteration: 31, error: 0.3058064516129032, fairness violation: 0.009064516129032259, violated group size: 0.215\n",
      "iteration: 32, error: 0.3059375, fairness violation: 0.00905, violated group size: 0.285\n",
      "iteration: 33, error: 0.3060606060606061, fairness violation: 0.009036363636363636, violated group size: 0.215\n",
      "iteration: 34, error: 0.30617647058823527, fairness violation: 0.009023529411764706, violated group size: 0.215\n",
      "iteration: 35, error: 0.30628571428571433, fairness violation: 0.009011428571428573, violated group size: 0.215\n",
      "iteration: 36, error: 0.3063888888888889, fairness violation: 0.008999999999999998, violated group size: 0.215\n",
      "iteration: 37, error: 0.30648648648648646, fairness violation: 0.00898918918918919, violated group size: 0.285\n",
      "iteration: 38, error: 0.306578947368421, fairness violation: 0.008978947368421053, violated group size: 0.215\n",
      "iteration: 39, error: 0.3066666666666667, fairness violation: 0.00896923076923077, violated group size: 0.215\n",
      "iteration: 40, error: 0.30674999999999997, fairness violation: 0.008960000000000001, violated group size: 0.215\n",
      "iteration: 41, error: 0.3068292682926829, fairness violation: 0.008951219512195123, violated group size: 0.215\n",
      "iteration: 42, error: 0.3069047619047619, fairness violation: 0.008942857142857143, violated group size: 0.215\n",
      "iteration: 43, error: 0.3069767441860465, fairness violation: 0.008934883720930233, violated group size: 0.215\n",
      "iteration: 44, error: 0.30704545454545457, fairness violation: 0.008927272727272726, violated group size: 0.215\n",
      "iteration: 45, error: 0.3071111111111111, fairness violation: 0.008920000000000003, violated group size: 0.215\n",
      "iteration: 46, error: 0.3071739130434783, fairness violation: 0.008913043478260873, violated group size: 0.285\n",
      "iteration: 47, error: 0.3072340425531915, fairness violation: 0.008906382978723404, violated group size: 0.215\n",
      "iteration: 48, error: 0.3072916666666667, fairness violation: 0.0089, violated group size: 0.285\n",
      "iteration: 49, error: 0.3073469387755102, fairness violation: 0.008893877551020411, violated group size: 0.285\n",
      "iteration: 50, error: 0.3074, fairness violation: 0.008888, violated group size: 0.215\n",
      "iteration: 51, error: 0.3074509803921569, fairness violation: 0.00888235294117647, violated group size: 0.215\n",
      "iteration: 52, error: 0.3075, fairness violation: 0.008876923076923077, violated group size: 0.215\n",
      "iteration: 53, error: 0.3075471698113208, fairness violation: 0.008871698113207548, violated group size: 0.215\n",
      "iteration: 54, error: 0.30759259259259264, fairness violation: 0.008866666666666665, violated group size: 0.215\n",
      "iteration: 55, error: 0.3076363636363636, fairness violation: 0.00886181818181818, violated group size: 0.215\n",
      "iteration: 56, error: 0.3076785714285714, fairness violation: 0.008857142857142859, violated group size: 0.215\n",
      "iteration: 57, error: 0.307719298245614, fairness violation: 0.008852631578947372, violated group size: 0.285\n",
      "iteration: 58, error: 0.30775862068965515, fairness violation: 0.008848275862068966, violated group size: 0.215\n",
      "iteration: 59, error: 0.3077966101694915, fairness violation: 0.008844067796610169, violated group size: 0.215\n",
      "iteration: 60, error: 0.3078333333333333, fairness violation: 0.008839999999999999, violated group size: 0.215\n",
      "iteration: 61, error: 0.3078688524590164, fairness violation: 0.008836065573770494, violated group size: 0.285\n",
      "iteration: 62, error: 0.30790322580645163, fairness violation: 0.00883225806451613, violated group size: 0.215\n",
      "iteration: 63, error: 0.30793650793650795, fairness violation: 0.008828571428571427, violated group size: 0.215\n",
      "iteration: 64, error: 0.30796875, fairness violation: 0.008825, violated group size: 0.215\n",
      "iteration: 65, error: 0.308, fairness violation: 0.00882153846153846, violated group size: 0.285\n",
      "iteration: 66, error: 0.308030303030303, fairness violation: 0.00881818181818182, violated group size: 0.285\n",
      "iteration: 67, error: 0.3080597014925373, fairness violation: 0.008814925373134332, violated group size: 0.285\n",
      "iteration: 68, error: 0.30808823529411766, fairness violation: 0.008811764705882352, violated group size: 0.215\n",
      "iteration: 69, error: 0.30811594202898557, fairness violation: 0.008808695652173916, violated group size: 0.285\n",
      "iteration: 70, error: 0.30814285714285716, fairness violation: 0.008805714285714285, violated group size: 0.215\n",
      "iteration: 71, error: 0.30816901408450703, fairness violation: 0.00880281690140845, violated group size: 0.215\n",
      "iteration: 72, error: 0.30819444444444444, fairness violation: 0.0088, violated group size: 0.215\n",
      "iteration: 73, error: 0.3082191780821918, fairness violation: 0.008797260273972604, violated group size: 0.285\n",
      "iteration: 74, error: 0.30824324324324326, fairness violation: 0.008794594594594599, violated group size: 0.285\n",
      "iteration: 75, error: 0.3082666666666667, fairness violation: 0.008792000000000001, violated group size: 0.285\n",
      "iteration: 76, error: 0.3082894736842105, fairness violation: 0.008789473684210528, violated group size: 0.215\n",
      "iteration: 77, error: 0.3083116883116883, fairness violation: 0.008787012987012987, violated group size: 0.215\n",
      "iteration: 78, error: 0.30833333333333335, fairness violation: 0.008784615384615384, violated group size: 0.285\n"
     ]
    },
    {
     "name": "stdout",
     "output_type": "stream",
     "text": [
      "iteration: 79, error: 0.30835443037974686, fairness violation: 0.008782278481012661, violated group size: 0.285\n",
      "iteration: 80, error: 0.308375, fairness violation: 0.00878, violated group size: 0.215\n",
      "iteration: 81, error: 0.30839506172839504, fairness violation: 0.00877777777777778, violated group size: 0.285\n",
      "iteration: 82, error: 0.30841463414634146, fairness violation: 0.008775609756097561, violated group size: 0.215\n",
      "iteration: 83, error: 0.308433734939759, fairness violation: 0.008773493975903617, violated group size: 0.215\n",
      "iteration: 84, error: 0.3084523809523809, fairness violation: 0.008771428571428572, violated group size: 0.215\n",
      "iteration: 85, error: 0.3084705882352941, fairness violation: 0.00876941176470588, violated group size: 0.215\n",
      "iteration: 86, error: 0.30848837209302327, fairness violation: 0.008767441860465117, violated group size: 0.215\n",
      "iteration: 87, error: 0.30850574712643675, fairness violation: 0.008765517241379311, violated group size: 0.285\n",
      "iteration: 88, error: 0.3085227272727273, fairness violation: 0.008763636363636366, violated group size: 0.215\n",
      "iteration: 89, error: 0.3085393258426966, fairness violation: 0.008761797752808989, violated group size: 0.215\n",
      "iteration: 90, error: 0.3085555555555555, fairness violation: 0.008759999999999999, violated group size: 0.215\n",
      "iteration: 91, error: 0.3085714285714286, fairness violation: 0.00875824175824176, violated group size: 0.285\n",
      "iteration: 92, error: 0.3085869565217391, fairness violation: 0.00875652173913044, violated group size: 0.285\n",
      "iteration: 93, error: 0.30860215053763446, fairness violation: 0.00875483870967742, violated group size: 0.215\n",
      "iteration: 94, error: 0.30861702127659574, fairness violation: 0.008753191489361701, violated group size: 0.215\n",
      "iteration: 95, error: 0.3086315789473684, fairness violation: 0.008751578947368424, violated group size: 0.285\n",
      "iteration: 96, error: 0.30864583333333334, fairness violation: 0.00875, violated group size: 0.215\n",
      "iteration: 97, error: 0.308659793814433, fairness violation: 0.008748453608247421, violated group size: 0.215\n",
      "iteration: 98, error: 0.3086734693877551, fairness violation: 0.008746938775510204, violated group size: 0.215\n",
      "iteration: 99, error: 0.3086868686868687, fairness violation: 0.008745454545454546, violated group size: 0.215\n",
      "iteration: 100, error: 0.30870000000000003, fairness violation: 0.008744000000000004, violated group size: 0.285\n",
      "iteration: 101, error: 0.3087128712871287, fairness violation: 0.008742574257425743, violated group size: 0.215\n",
      "iteration: 102, error: 0.3087254901960785, fairness violation: 0.008741176470588235, violated group size: 0.215\n",
      "iteration: 103, error: 0.3087378640776699, fairness violation: 0.00873980582524272, violated group size: 0.215\n",
      "iteration: 104, error: 0.30874999999999997, fairness violation: 0.00873846153846154, violated group size: 0.215\n",
      "iteration: 105, error: 0.30876190476190474, fairness violation: 0.008737142857142857, violated group size: 0.215\n",
      "iteration: 106, error: 0.30877358490566037, fairness violation: 0.008735849056603774, violated group size: 0.285\n",
      "iteration: 107, error: 0.30878504672897195, fairness violation: 0.008734579439252339, violated group size: 0.285\n",
      "iteration: 108, error: 0.30879629629629624, fairness violation: 0.008733333333333336, violated group size: 0.285\n",
      "iteration: 109, error: 0.3088073394495413, fairness violation: 0.008732110091743121, violated group size: 0.285\n",
      "iteration: 110, error: 0.3088181818181818, fairness violation: 0.00873090909090909, violated group size: 0.215\n",
      "iteration: 111, error: 0.30882882882882884, fairness violation: 0.00872972972972973, violated group size: 0.215\n",
      "iteration: 112, error: 0.3088392857142857, fairness violation: 0.008728571428571428, violated group size: 0.215\n",
      "iteration: 113, error: 0.3088495575221239, fairness violation: 0.008727433628318584, violated group size: 0.215\n",
      "iteration: 114, error: 0.308859649122807, fairness violation: 0.008726315789473684, violated group size: 0.215\n",
      "iteration: 115, error: 0.30886956521739134, fairness violation: 0.008725217391304349, violated group size: 0.215\n",
      "iteration: 116, error: 0.30887931034482763, fairness violation: 0.008724137931034482, violated group size: 0.215\n",
      "iteration: 117, error: 0.3088888888888889, fairness violation: 0.008723076923076924, violated group size: 0.215\n",
      "iteration: 118, error: 0.30889830508474575, fairness violation: 0.008722033898305084, violated group size: 0.285\n",
      "iteration: 119, error: 0.3089075630252101, fairness violation: 0.008721008403361343, violated group size: 0.215\n",
      "iteration: 120, error: 0.3089166666666667, fairness violation: 0.008720000000000002, violated group size: 0.215\n",
      "iteration: 121, error: 0.3089256198347108, fairness violation: 0.00871900826446281, violated group size: 0.285\n",
      "iteration: 122, error: 0.30893442622950823, fairness violation: 0.008718032786885245, violated group size: 0.215\n",
      "iteration: 123, error: 0.3089430894308943, fairness violation: 0.008717073170731707, violated group size: 0.215\n",
      "iteration: 124, error: 0.3089516129032258, fairness violation: 0.008716129032258064, violated group size: 0.215\n",
      "iteration: 125, error: 0.30895999999999996, fairness violation: 0.008715200000000001, violated group size: 0.215\n",
      "iteration: 126, error: 0.308968253968254, fairness violation: 0.008714285714285714, violated group size: 0.285\n",
      "iteration: 127, error: 0.3089763779527559, fairness violation: 0.008713385826771653, violated group size: 0.215\n",
      "iteration: 128, error: 0.308984375, fairness violation: 0.0087125, violated group size: 0.215\n",
      "iteration: 129, error: 0.30899224806201553, fairness violation: 0.008711627906976743, violated group size: 0.215\n",
      "iteration: 130, error: 0.309, fairness violation: 0.00871076923076923, violated group size: 0.285\n",
      "iteration: 131, error: 0.3090076335877862, fairness violation: 0.008709923664122137, violated group size: 0.215\n",
      "iteration: 132, error: 0.3090151515151515, fairness violation: 0.008709090909090911, violated group size: 0.215\n",
      "iteration: 133, error: 0.3090225563909775, fairness violation: 0.008708270676691731, violated group size: 0.285\n",
      "iteration: 134, error: 0.3090298507462686, fairness violation: 0.008707462686567165, violated group size: 0.215\n",
      "iteration: 135, error: 0.30903703703703705, fairness violation: 0.008706666666666666, violated group size: 0.285\n",
      "iteration: 136, error: 0.3090441176470588, fairness violation: 0.008705882352941178, violated group size: 0.215\n",
      "iteration: 137, error: 0.30905109489051097, fairness violation: 0.008705109489051096, violated group size: 0.215\n",
      "iteration: 138, error: 0.3090579710144928, fairness violation: 0.008704347826086957, violated group size: 0.215\n",
      "iteration: 139, error: 0.30906474820143887, fairness violation: 0.008703597122302158, violated group size: 0.215\n",
      "iteration: 140, error: 0.30907142857142855, fairness violation: 0.008702857142857142, violated group size: 0.215\n",
      "iteration: 141, error: 0.3090780141843972, fairness violation: 0.008702127659574468, violated group size: 0.215\n",
      "iteration: 142, error: 0.30908450704225354, fairness violation: 0.008701408450704228, violated group size: 0.215\n",
      "iteration: 143, error: 0.3090909090909091, fairness violation: 0.008700699300699303, violated group size: 0.285\n",
      "iteration: 144, error: 0.3090972222222222, fairness violation: 0.008700000000000001, violated group size: 0.215\n",
      "iteration: 145, error: 0.3091034482758621, fairness violation: 0.00869931034482759, violated group size: 0.285\n",
      "iteration: 146, error: 0.3091095890410959, fairness violation: 0.008698630136986305, violated group size: 0.285\n",
      "iteration: 147, error: 0.30911564625850335, fairness violation: 0.00869795918367347, violated group size: 0.285\n",
      "iteration: 148, error: 0.3091216216216216, fairness violation: 0.008697297297297298, violated group size: 0.285\n",
      "iteration: 149, error: 0.30912751677852346, fairness violation: 0.008696644295302017, violated group size: 0.285\n",
      "iteration: 150, error: 0.3091333333333333, fairness violation: 0.008696, violated group size: 0.215\n",
      "iteration: 151, error: 0.30913907284768216, fairness violation: 0.008695364238410597, violated group size: 0.285\n",
      "iteration: 152, error: 0.30914473684210525, fairness violation: 0.008694736842105262, violated group size: 0.215\n",
      "iteration: 153, error: 0.3091503267973856, fairness violation: 0.008694117647058823, violated group size: 0.215\n"
     ]
    },
    {
     "name": "stdout",
     "output_type": "stream",
     "text": [
      "iteration: 154, error: 0.3091558441558442, fairness violation: 0.008693506493506495, violated group size: 0.215\n",
      "iteration: 155, error: 0.3091612903225806, fairness violation: 0.008692903225806452, violated group size: 0.215\n",
      "iteration: 156, error: 0.3091666666666667, fairness violation: 0.008692307692307692, violated group size: 0.285\n",
      "iteration: 157, error: 0.309171974522293, fairness violation: 0.00869171974522293, violated group size: 0.215\n",
      "iteration: 158, error: 0.3091772151898734, fairness violation: 0.00869113924050633, violated group size: 0.215\n",
      "iteration: 159, error: 0.30918238993710695, fairness violation: 0.008690566037735848, violated group size: 0.215\n",
      "iteration: 160, error: 0.3091875, fairness violation: 0.008690000000000002, violated group size: 0.285\n",
      "iteration: 161, error: 0.3091925465838509, fairness violation: 0.00868944099378882, violated group size: 0.215\n",
      "iteration: 162, error: 0.30919753086419755, fairness violation: 0.00868888888888889, violated group size: 0.215\n",
      "iteration: 163, error: 0.3092024539877301, fairness violation: 0.008688343558282208, violated group size: 0.215\n",
      "iteration: 164, error: 0.30920731707317073, fairness violation: 0.008687804878048782, violated group size: 0.285\n",
      "iteration: 165, error: 0.3092121212121212, fairness violation: 0.00868727272727273, violated group size: 0.285\n",
      "iteration: 166, error: 0.30921686746987953, fairness violation: 0.00868674698795181, violated group size: 0.285\n",
      "iteration: 167, error: 0.30922155688622754, fairness violation: 0.008686227544910179, violated group size: 0.215\n",
      "iteration: 168, error: 0.3092261904761905, fairness violation: 0.008685714285714284, violated group size: 0.215\n",
      "iteration: 169, error: 0.3092307692307692, fairness violation: 0.008685207100591716, violated group size: 0.215\n",
      "iteration: 170, error: 0.30923529411764705, fairness violation: 0.00868470588235294, violated group size: 0.215\n",
      "iteration: 171, error: 0.3092397660818713, fairness violation: 0.00868421052631579, violated group size: 0.215\n",
      "iteration: 172, error: 0.3092441860465116, fairness violation: 0.00868372093023256, violated group size: 0.285\n",
      "iteration: 173, error: 0.30924855491329484, fairness violation: 0.008683236994219657, violated group size: 0.285\n",
      "iteration: 174, error: 0.3092528735632184, fairness violation: 0.008682758620689656, violated group size: 0.285\n",
      "iteration: 175, error: 0.3092571428571429, fairness violation: 0.008682285714285715, violated group size: 0.215\n",
      "iteration: 176, error: 0.30926136363636364, fairness violation: 0.008681818181818183, violated group size: 0.215\n",
      "iteration: 177, error: 0.3092655367231638, fairness violation: 0.008681355932203393, violated group size: 0.285\n",
      "iteration: 178, error: 0.30926966292134833, fairness violation: 0.008680898876404495, violated group size: 0.285\n",
      "iteration: 179, error: 0.30927374301675975, fairness violation: 0.008680446927374304, violated group size: 0.215\n",
      "iteration: 180, error: 0.3092777777777778, fairness violation: 0.00868, violated group size: 0.215\n",
      "iteration: 181, error: 0.3092817679558011, fairness violation: 0.008679558011049726, violated group size: 0.215\n",
      "iteration: 182, error: 0.30928571428571433, fairness violation: 0.008679120879120879, violated group size: 0.215\n",
      "iteration: 183, error: 0.30928961748633876, fairness violation: 0.008678688524590165, violated group size: 0.215\n",
      "iteration: 184, error: 0.30929347826086956, fairness violation: 0.008678260869565217, violated group size: 0.285\n",
      "iteration: 185, error: 0.30929729729729727, fairness violation: 0.008677837837837838, violated group size: 0.215\n",
      "iteration: 186, error: 0.30930107526881717, fairness violation: 0.008677419354838711, violated group size: 0.215\n",
      "iteration: 187, error: 0.30930481283422456, fairness violation: 0.008677005347593586, violated group size: 0.285\n",
      "iteration: 188, error: 0.3093085106382979, fairness violation: 0.00867659574468085, violated group size: 0.215\n",
      "iteration: 189, error: 0.3093121693121693, fairness violation: 0.008676190476190478, violated group size: 0.285\n",
      "iteration: 190, error: 0.3093157894736842, fairness violation: 0.008675789473684211, violated group size: 0.285\n",
      "iteration: 191, error: 0.30931937172774865, fairness violation: 0.008675392670157068, violated group size: 0.215\n",
      "iteration: 192, error: 0.30932291666666667, fairness violation: 0.008674999999999999, violated group size: 0.215\n",
      "iteration: 193, error: 0.30932642487046635, fairness violation: 0.00867461139896373, violated group size: 0.215\n",
      "iteration: 194, error: 0.30932989690721646, fairness violation: 0.00867422680412371, violated group size: 0.215\n",
      "iteration: 195, error: 0.30933333333333335, fairness violation: 0.008673846153846154, violated group size: 0.215\n",
      "iteration: 196, error: 0.30933673469387757, fairness violation: 0.008673469387755102, violated group size: 0.215\n",
      "iteration: 197, error: 0.3093401015228426, fairness violation: 0.008673096446700508, violated group size: 0.215\n",
      "iteration: 198, error: 0.3093434343434343, fairness violation: 0.008672727272727275, violated group size: 0.215\n",
      "iteration: 199, error: 0.30934673366834176, fairness violation: 0.008672361809045227, violated group size: 0.215\n"
     ]
    }
   ],
   "source": [
    "C = 10\n",
    "print_flag = True\n",
    "gamma = .005\n",
    "max_iterations = 200\n",
    "\n",
    "fair_model = Model(C=C, printflag=print_flag, gamma=gamma, fairness_def='FP',\n",
    "             max_iters=max_iterations, heatmapflag=False, heatmap_iter=max_iterations, heatmap_path='heatmap')\n",
    "# balance flag artificially ensures mean(y) = .5\n",
    "data_set = load_preproc_data_adult(sub_samp=200, balance=True)\n",
    "\n",
    "# fit method\n",
    "communities_all_errors, communities_violations = fair_model.fit(data_set,\n",
    "                                                 early_termination=True, return_values=True)\n",
    "# predict method\n",
    "dataset_yhat = fair_model.predict(data_set)\n",
    "\n"
   ]
  },
  {
   "cell_type": "code",
   "execution_count": 3,
   "metadata": {},
   "outputs": [
    {
     "data": {
      "text/html": [
       "\n",
       "        <iframe\n",
       "            width=\"600\"\n",
       "            height=\"300\"\n",
       "            src=\"heatmap/heatmap_iteration_200.png\"\n",
       "            frameborder=\"0\"\n",
       "            allowfullscreen\n",
       "        ></iframe>\n",
       "        "
      ],
      "text/plain": [
       "<IPython.lib.display.IFrame at 0x1a32b929b0>"
      ]
     },
     "execution_count": 3,
     "metadata": {},
     "output_type": "execute_result"
    }
   ],
   "source": [
    "\n",
    "# output heatmap (brute force)\n",
    "# replace None with the relative path if you want to save the plot\n",
    "#os.mkdir(fair_model.heatmap_path)\n",
    "fair_model.heatmapflag = True\n",
    "fair_model.save_heatmap(fair_model.max_iters, data_set, dataset_yhat.labels, None, None)\n",
    "IFrame('{}/heatmap_iteration_{}.png'.format(fair_model.heatmap_path, fair_model.max_iters), width=600, height=300)\n",
    "\n",
    "\n"
   ]
  },
  {
   "cell_type": "code",
   "execution_count": 4,
   "metadata": {},
   "outputs": [
    {
     "name": "stdout",
     "output_type": "stream",
     "text": [
      "gamma disparity: 0.0086\n"
     ]
    }
   ],
   "source": [
    "# auditing a classifier for unfairness\n",
    "auditor = Auditor(data_set, 'FP')\n",
    "group = auditor.get_group(dataset_yhat.labels, auditor.get_baseline(array_to_tuple(data_set.labels), array_to_tuple(dataset_yhat.labels)))\n",
    "print('gamma disparity: {}'.format(group.weighted_disparity))\n",
    "\n",
    "\n"
   ]
  },
  {
   "cell_type": "code",
   "execution_count": 5,
   "metadata": {},
   "outputs": [
    {
     "data": {
      "image/png": "[encoded data removed]",
      "text/plain": [
       "<matplotlib.figure.Figure at 0x1a32b92b00>"
      ]
     },
     "metadata": {},
     "output_type": "display_data"
    }
   ],
   "source": [
    "def multiple_classifiers_pareto(dataset, gamma_list=[0.002, 0.005, 0.01, 0.02, 0.05], save_results=False):\n",
    "\n",
    "    ln_predictor = linear_model.LinearRegression()\n",
    "    svm_predictor = svm.LinearSVR()\n",
    "    tree_predictor = tree.DecisionTreeRegressor(max_depth=3)\n",
    "    kernel_predictor = KernelRidge(alpha=1.0, gamma=1.0, kernel='rbf')\n",
    "    predictor_dict = {'Linear': {'predictor': ln_predictor, 'iters': 200},\n",
    "                      'Tree': {'predictor': tree_predictor, 'iters': 200},\n",
    "                      'Kernel': {'predictor': kernel_predictor, 'iters': 200}}\n",
    "\n",
    "    results_dict = {}\n",
    "\n",
    "    for pred in predictor_dict:\n",
    "        predictor = predictor_dict[pred]['predictor']\n",
    "        max_iters = predictor_dict[pred]['iters']\n",
    "        fair_clf = Model(C=100, printflag=False, gamma=1, predictor=predictor, max_iters=max_iters)\n",
    "        fair_clf.set_options(max_iters=max_iters)\n",
    "        errors, fp_violations, fn_violations = fair_clf.pareto(dataset, gamma_list)\n",
    "        results_dict[pred] = {'errors': errors, 'fp_violations': fp_violations, 'fn_violations': fn_violations}\n",
    "        plt.plot(errors, fp_violations, label=pred)\n",
    "\n",
    "    if save_results:\n",
    "        pickle.dump(results_dict, open('results_dict_' + str(gamma_list) + '_gammas' + str(gamma_list) + '.pkl', 'wb'))\n",
    "\n",
    "    plt.xlabel('Error')\n",
    "    plt.ylabel('Unfairness')\n",
    "    plt.legend()\n",
    "    plt.title('Error vs. Unfairness\\n(Communities & Crime Dataset)')\n",
    "    plt.show()\n",
    "    \n",
    "    \n",
    "multiple_classifiers_pareto(data_set)"
   ]
  },
  {
   "cell_type": "code",
   "execution_count": 6,
   "metadata": {
    "scrolled": false
   },
   "outputs": [
    {
     "name": "stdout",
     "output_type": "stream",
     "text": [
      "([0.0086, 0.0086, 0.0086, 0.0086, 0.0086, 0.0086, 0.010750000000000001, 0.01435, 0.023000000000000003], [0.0333, 0.0333, 0.0333, 0.0333, 0.0333, 0.0333, 0.03560000000000001, 0.030149999999999996, 0.011600000000000003])\n"
     ]
    },
    {
     "data": {
      "image/png": "[encoded data removed]",
      "text/plain": [
       "<matplotlib.figure.Figure at 0x1a40d260b8>"
      ]
     },
     "metadata": {},
     "output_type": "display_data"
    }
   ],
   "source": [
    "\n",
    "def fp_vs_fn(dataset, gamma_list):\n",
    "    fp_auditor = Auditor(dataset, 'FP')\n",
    "    fn_auditor = Auditor(dataset, 'FN')\n",
    "    fp_violations = []\n",
    "    fn_violations = []\n",
    "    for g in gamma_list:\n",
    "        C = 10\n",
    "        print_flag = False \n",
    "        max_iterations = 200\n",
    "        fair_def = 'FP'\n",
    "        fair_model = Model(C=C, printflag=print_flag, gamma=g, fairness_def=fair_def,\n",
    "             max_iters=max_iterations)\n",
    "        fair_model.set_options(gamma=g)\n",
    "        fair_model.fit(dataset)\n",
    "        predictions = (fair_model.predict(dataset)).labels\n",
    "        predictions_inv = tuple([abs(1 - p) for p in predictions])\n",
    "        _, fp_diff = fp_auditor.audit(predictions)\n",
    "        _, fn_diff = fn_auditor.audit(predictions_inv)\n",
    "        fp_violations.append(fp_diff)\n",
    "        fn_violations.append(fn_diff)\n",
    "\n",
    "    print((fp_violations, fn_violations))\n",
    "\n",
    "    plt.plot(fp_violations, fn_violations, label='communities')\n",
    "    plt.xlabel('False Positive Disparity')\n",
    "    plt.ylabel('False Negative Disparity')\n",
    "    plt.legend()\n",
    "    plt.title('FP vs FN Unfairness')\n",
    "    plt.show()\n",
    "    \n",
    "gamma_list = [0.001, 0.002, 0.003, 0.004, 0.005, 0.0075, 0.01, 0.02, 0.03]\n",
    "fp_vs_fn(data_set, gamma_list)"
   ]
  },
  {
   "cell_type": "code",
   "execution_count": null,
   "metadata": {},
   "outputs": [],
   "source": []
  }
 ],
 "metadata": {
  "kernelspec": {
   "display_name": "Python 3",
   "language": "python",
   "name": "python3"
  },
  "language_info": {
   "codemirror_mode": {
    "name": "ipython",
    "version": 3
   },
   "file_extension": ".py",
   "mimetype": "text/x-python",
   "name": "python",
   "nbconvert_exporter": "python",
   "pygments_lexer": "ipython3",
   "version": "3.5.4"
  },
  "pycharm": {
   "stem_cell": {
    "cell_type": "raw",
    "metadata": {
     "collapsed": false
    },
    "source": []
   }
  }
 },
 "nbformat": 4,
 "nbformat_minor": 1
}
